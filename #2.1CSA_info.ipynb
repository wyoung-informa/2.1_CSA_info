{
 "cells": [
  {
   "cell_type": "code",
   "execution_count": 1,
   "metadata": {},
   "outputs": [],
   "source": [
    "import zipfile, re, time"
   ]
  },
  {
   "cell_type": "code",
   "execution_count": 2,
   "metadata": {},
   "outputs": [],
   "source": [
    "import psycopg2 as p\n",
    "import psycopg2.extras as e"
   ]
  },
  {
   "cell_type": "code",
   "execution_count": 3,
   "metadata": {},
   "outputs": [],
   "source": [
    "password = 'Evergreen1'\n",
    "\n",
    "conn = p.connect(database = 'postgres', user = 'postgres', password = password, \n",
    "                       host = 'localhost', port = 5433)\n",
    "\n",
    "cur = conn.cursor()"
   ]
  },
  {
   "cell_type": "code",
   "execution_count": 4,
   "metadata": {},
   "outputs": [],
   "source": [
    "cur.execute(\"\"\"\n",
    "CREATE TABLE fleetseek.csa_basic_temp_ab\n",
    "(\n",
    "    usdot integer NOT NULL,\n",
    "    insp_total integer,\n",
    "    driver_insp_total integer,\n",
    "    driver_oos_insp_total integer,\n",
    "    vehicle_insp_total integer,\n",
    "    vehicle_oos_insp_total integer,\n",
    "    unsafe_driv_insp_w_viol integer,\n",
    "    unsafe_driv_measure double precision,\n",
    "    unsafe_driv_ac varchar,\n",
    "    hos_driv_insp_w_viol integer,\n",
    "    hos_driv_measure double precision,\n",
    "    hos_driv_ac varchar,\n",
    "    driv_fit_insp_w_viol integer,\n",
    "    driv_fit_measure double precision,\n",
    "    driv_fit_ac varchar,\n",
    "    contr_subst_insp_w_viol integer,\n",
    "    contr_subst_measure double precision,\n",
    "    contr_subst_ac varchar,\n",
    "    veh_maint_insp_w_viol integer,\n",
    "    veh_maint_measure double precision,\n",
    "    veh_maint_ac varchar\n",
    ")\n",
    "\n",
    "\"\"\")\n",
    "conn.commit()"
   ]
  },
  {
   "cell_type": "code",
   "execution_count": 5,
   "metadata": {},
   "outputs": [],
   "source": [
    "#Change the filename here everytime \n",
    "with open(r'C:\\Users\\YoungW\\OneDrive - Informa plc\\Documents\\SMS_AB_PassProperty_2019Dec\\SMS_AB_PassProperty_2019Dec.txt', 'r+') as f:\n",
    "    next(f)\n",
    "    cur.copy_from(f, 'fleetseek.csa_basic_temp_AB', sep = ',' , null = '')\n",
    "    conn.commit()\n",
    "    \n",
    "    "
   ]
  },
  {
   "cell_type": "code",
   "execution_count": 51,
   "metadata": {},
   "outputs": [],
   "source": [
    "cur.execute(\"\"\"\n",
    "insert into fleetseek.csa_basic (usdot, insp_total, driver_insp_total, driver_oos_insp_total, vehicle_insp_total, vehicle_oos_insp_total, unsafe_driv_pct, unsafe_driv_sv_flag,\n",
    "fatigue_driv_pct, fatigue_driv_sv_flag, driv_fitness_pct, driv_fitness_sv_flag, contr_subst_pct, contr_subst_sv_flag, veh_maint_pct, veh_maint_sv_flag)\n",
    "\n",
    "select usdot, insp_total, driver_insp_total, driver_oos_insp_total, vehicle_insp_total, vehicle_oos_insp_total, unsafe_driv_measure, unsafe_driv_ac, hos_driv_measure, hos_driv_ac,\n",
    "driv_fit_measure, driv_fit_ac, contr_subst_measure, contr_subst_ac, veh_maint_measure, veh_maint_ac\n",
    "\n",
    "from fleetseek.csa_basic_temp_ab\n",
    "on conflict (usdot) \n",
    "do update\n",
    "set \n",
    "    insp_total = excluded.insp_total,\n",
    "    driver_insp_total = excluded.driver_insp_total,\n",
    "    driver_oos_insp_total = excluded.driver_oos_insp_total,\n",
    "    vehicle_insp_total = excluded.vehicle_insp_total,\n",
    "    vehicle_oos_insp_total = excluded.vehicle_oos_insp_total,\n",
    "    unsafe_driv_pct = excluded.unsafe_driv_pct,\n",
    "    unsafe_driv_sv_flag = excluded.unsafe_driv_sv_flag,\n",
    "    fatigue_driv_pct = excluded.fatigue_driv_pct,\n",
    "    fatigue_driv_sv_flag = excluded.fatigue_driv_sv_flag,\n",
    "    driv_fitness_pct = excluded.driv_fitness_pct,\n",
    "    driv_fitness_sv_flag = excluded.driv_fitness_sv_flag,\n",
    "    contr_subst_pct = excluded.contr_subst_pct,\n",
    "    contr_subst_sv_flag = excluded.contr_subst_sv_flag,\n",
    "    veh_maint_pct = excluded.veh_maint_pct,\n",
    "    veh_maint_sv_flag = excluded.veh_maint_sv_flag,\n",
    "    updated_date = now()::date;\n",
    "    \n",
    "drop table fleetseek.csa_basic_temp_ab;\n",
    "    \n",
    "\"\"\")\n",
    "conn.commit()"
   ]
  },
  {
   "cell_type": "code",
   "execution_count": 18,
   "metadata": {},
   "outputs": [],
   "source": [
    "cur.execute(\"\"\"\n",
    "CREATE TABLE fleetseek.csa_basic_temp_c\n",
    "(\n",
    "    usdot integer NOT NULL,\n",
    "    insp_total integer,\n",
    "    driver_insp_total integer,\n",
    "    driver_oos_insp_total integer,\n",
    "    vehicle_insp_total integer,\n",
    "    vehicle_oos_insp_total integer,\n",
    "    unsafe_driv_insp_w_viol integer,\n",
    "    unsafe_driv_measure double precision,\n",
    "    unsafe_driv_ac varchar,\n",
    "    hos_driv_insp_w_viol integer,\n",
    "    hos_driv_measure double precision,\n",
    "    hos_driv_ac varchar,\n",
    "    driv_fit_insp_w_viol integer,\n",
    "    driv_fit_measure double precision,\n",
    "    driv_fit_ac varchar,\n",
    "    contr_subst_insp_w_viol integer,\n",
    "    contr_subst_measure double precision,\n",
    "    contr_subst_sv varchar,\n",
    "    veh_maint_insp_w_viol integer,\n",
    "    veh_maint_measure double precision,\n",
    "    veh_maint_ac varchar\n",
    ")\n",
    "\n",
    "\"\"\")\n",
    "conn.commit()"
   ]
  },
  {
   "cell_type": "code",
   "execution_count": 20,
   "metadata": {},
   "outputs": [],
   "source": [
    "#Change the filename here everytime \n",
    "with open(r'C:\\Users\\YoungW\\OneDrive - Informa plc\\Documents\\SMS_C_PassProperty_2019Dec\\SMS_C_PassProperty_2019Dec.txt', 'r+') as f:\n",
    "    next(f)\n",
    "    cur.copy_from(f, 'fleetseek.csa_basic_temp_C', sep = ',' , null = '')\n",
    "    conn.commit()\n",
    "    \n",
    "    "
   ]
  },
  {
   "cell_type": "code",
   "execution_count": 44,
   "metadata": {},
   "outputs": [],
   "source": [
    "cur.execute(\"\"\"\n",
    "insert into fleetseek.csa_basic (usdot, insp_total, driver_insp_total, driver_oos_insp_total, vehicle_insp_total, vehicle_oos_insp_total, unsafe_driv_pct, unsafe_driv_sv_flag,\n",
    "fatigue_driv_pct, fatigue_driv_sv_flag, driv_fitness_pct, driv_fitness_sv_flag, contr_subst_pct, contr_subst_sv_flag, veh_maint_pct, veh_maint_sv_flag)\n",
    "\n",
    "select usdot, insp_total, driver_insp_total, driver_oos_insp_total, vehicle_insp_total, vehicle_oos_insp_total, unsafe_driv_measure, unsafe_driv_ac, hos_driv_measure, hos_driv_ac,\n",
    "driv_fit_measure, driv_fit_ac, contr_subst_measure, contr_subst_ac, veh_maint_measure, veh_maint_ac\n",
    "\n",
    "from fleetseek.csa_basic_temp_c\n",
    "on conflict (usdot) \n",
    "do update\n",
    "set \n",
    "    insp_total = excluded.insp_total,\n",
    "    driver_insp_total = excluded.driver_insp_total,\n",
    "    driver_oos_insp_total = excluded.driver_oos_insp_total,\n",
    "    vehicle_insp_total = excluded.vehicle_insp_total,\n",
    "    vehicle_oos_insp_total = excluded.vehicle_oos_insp_total,\n",
    "    unsafe_driv_pct = excluded.unsafe_driv_pct,\n",
    "    unsafe_driv_sv_flag = excluded.unsafe_driv_sv_flag,\n",
    "    fatigue_driv_pct = excluded.fatigue_driv_pct,\n",
    "    fatigue_driv_sv_flag = excluded.fatigue_driv_sv_flag,\n",
    "    driv_fitness_pct = excluded.driv_fitness_pct,\n",
    "    driv_fitness_sv_flag = excluded.driv_fitness_sv_flag,\n",
    "    contr_subst_pct = excluded.contr_subst_pct,\n",
    "    contr_subst_sv_flag = excluded.contr_subst_sv_flag,\n",
    "    veh_maint_pct = excluded.veh_maint_pct,\n",
    "    veh_maint_sv_flag = excluded.veh_maint_sv_flag,\n",
    "    updated_date = now()::date;\n",
    "\n",
    "\n",
    "drop table fleetseek.csa_basic_temp_c;\n",
    "    \n",
    "\"\"\")\n",
    "conn.commit()"
   ]
  }
 ],
 "metadata": {
  "kernelspec": {
   "display_name": "Python 3",
   "language": "python",
   "name": "python3"
  },
  "language_info": {
   "codemirror_mode": {
    "name": "ipython",
    "version": 3
   },
   "file_extension": ".py",
   "mimetype": "text/x-python",
   "name": "python",
   "nbconvert_exporter": "python",
   "pygments_lexer": "ipython3",
   "version": "3.7.4"
  }
 },
 "nbformat": 4,
 "nbformat_minor": 4
}
